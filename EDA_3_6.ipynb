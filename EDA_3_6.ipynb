{
 "cells": [
  {
   "cell_type": "code",
   "execution_count": null,
   "metadata": {},
   "outputs": [],
   "source": [
    "import pandas as pd"
   ]
  },
  {
   "cell_type": "code",
   "execution_count": null,
   "metadata": {},
   "outputs": [],
   "source": [
    "import category_encoders as ce"
   ]
  },
  {
   "cell_type": "code",
   "execution_count": null,
   "metadata": {},
   "outputs": [],
   "source": [
    "heart = pd.read_csv('heart.csv')\n",
    "heart.head()"
   ]
  },
  {
   "cell_type": "code",
   "execution_count": null,
   "metadata": {},
   "outputs": [],
   "source": [
    "heart['old'] = heart['age'].apply(lambda x: 1 if x > 60 else 0)\n",
    "heart['old'].sum()\n"
   ]
  },
  {
   "cell_type": "code",
   "execution_count": null,
   "metadata": {},
   "outputs": [],
   "source": [
    "def get_trestbps_mean(row):\n",
    "    if row['sex'] == 1:\n",
    "        if age <= 20:\n",
    "            return '123/76'\n",
    "        elif 21 <= age <= 30:\n",
    "            return '126/79'\n",
    "        elif 31 <= age <= 40:\n",
    "            return '129/81'\n",
    "        elif 41 <= age <= 50:\n",
    "            return '135/83'\n",
    "        elif 51 <= age <= 60:\n",
    "            return '142/85'\n",
    "        else:\n",
    "            return '142/80'\n",
    "    else:\n",
    "        if age <= 20:\n",
    "            return '116/72'\n",
    "        elif 21 <= age <= 30:\n",
    "            return '120/75'\n",
    "        elif 31 <= age <= 40:\n",
    "            return '127/80'\n",
    "        elif 41 <= age <= 50:\n",
    "            return '137/84'\n",
    "        elif 51 <= age <= 60:\n",
    "            return '144/85'\n",
    "        else:\n",
    "            return '159/85'\n",
    "heart['trestbps_mean'] = heart.apply(lambda heart: get_trestbps_mean(heart.age), axis=1)"
   ]
  },
  {
   "cell_type": "code",
   "execution_count": null,
   "metadata": {},
   "outputs": [],
   "source": [
    "heart.describe()"
   ]
  },
  {
   "cell_type": "code",
   "execution_count": null,
   "metadata": {},
   "outputs": [],
   "source": [
    "heart.info()"
   ]
  },
  {
   "cell_type": "code",
   "execution_count": null,
   "metadata": {},
   "outputs": [],
   "source": [
    "encoder = ce.OneHotEncoder(cols=['cp', 'restecg', 'slope', 'ca', 'thal'])\n",
    "type_bin = encoder.fit_transform(heart[['cp', 'restecg', 'slope', 'ca', 'thal']])\n",
    "heart = pd.concat([heart, type_bin], axis=1)\n",
    "\n",
    "heart"
   ]
  },
  {
   "cell_type": "code",
   "execution_count": null,
   "metadata": {},
   "outputs": [],
   "source": [
    "heart.drop([ 'restecg', 'slope', 'ca', 'thal'], axis=1)"
   ]
  },
  {
   "cell_type": "code",
   "execution_count": null,
   "metadata": {},
   "outputs": [],
   "source": [
    "from sklearn import preprocessing"
   ]
  },
  {
   "cell_type": "code",
   "execution_count": null,
   "metadata": {},
   "outputs": [],
   "source": [
    "r_scaler = preprocessing.RobustScaler()\n",
    "\n",
    "# кодируем исходный датасет\n",
    "df_r = r_scaler.fit_transform(heart[['restecg', 'slope', 'ca', 'thal']], y=None)\n",
    "\n",
    "# Преобразуем промежуточный датасет в полноценный датафрейм для визуализации\n",
    "df_r = pd.DataFrame(df_r, columns=['restecg', 'slope', 'ca', 'thal', 'chol'])\n",
    "\n",
    "df_r['chol']"
   ]
  }
 ],
 "metadata": {
  "kernelspec": {
   "display_name": "Python 3",
   "language": "python",
   "name": "python3"
  },
  "language_info": {
   "codemirror_mode": {
    "name": "ipython",
    "version": 3
   },
   "file_extension": ".py",
   "mimetype": "text/x-python",
   "name": "python",
   "nbconvert_exporter": "python",
   "pygments_lexer": "ipython3",
   "version": "3.12.1"
  }
 },
 "nbformat": 4,
 "nbformat_minor": 2
}
